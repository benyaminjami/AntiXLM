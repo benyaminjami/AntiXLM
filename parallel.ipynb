{
 "cells": [
  {
   "cell_type": "code",
   "execution_count": 10,
   "metadata": {},
   "outputs": [],
   "source": [
    "ab_t = open('data/test.ab-ag.ab', 'r')\n",
    "ab_v = open('data/valid.ab-ag.ab', 'r')\n",
    "\n",
    "ab_t_w = open('data/test.ab-ag.ab.weights', 'r')\n",
    "ab_v_w = open('data/valid.ab-ag.ab.weights', 'r')\n",
    "\n",
    "\n",
    "ag_t = open('data/test.ab-ag.ag', 'r')\n",
    "ag_v = open('data/valid.ab-ag.ag', 'r')"
   ]
  },
  {
   "cell_type": "code",
   "execution_count": 11,
   "metadata": {},
   "outputs": [],
   "source": [
    "ab_t = ab_t.read().split('\\n')\n",
    "ab_v = ab_v.read().split('\\n')\n",
    "ab_t_w = ab_t_w.read().split('\\n')\n",
    "ab_v_w = ab_v_w.read().split('\\n')\n",
    "\n",
    "ag_t = ag_t.read().split('\\n')\n",
    "ag_v = ag_v.read().split('\\n')"
   ]
  },
  {
   "cell_type": "code",
   "execution_count": 14,
   "metadata": {},
   "outputs": [],
   "source": [
    "ag, ab, ab_w = [], [], []\n",
    "for i in range(max(len(ab_t), len(ab_v))):\n",
    "    if ab_t[i] != '':\n",
    "        ab.append(ab_t[i])\n",
    "        ab_w.append(ab_t_w[i])\n",
    "        ag.append(ag_t[i])\n",
    "    if i < len(ab_v) and ab_v[i] != '':\n",
    "        \n",
    "        ab.append(ab_v[i])\n",
    "        ab_w.append(ab_v_w[i])\n",
    "        ag.append(ag_v[i])"
   ]
  },
  {
   "cell_type": "code",
   "execution_count": 18,
   "metadata": {},
   "outputs": [],
   "source": [
    "ab_a = open('data/all.ab-ag.ab', 'w')\n",
    "ab_t = open('data/test.ab-ag.ab', 'w')\n",
    "ab_v = open('data/valid.ab-ag.ab', 'w')\n",
    "ab_r = open('data/train.ab-ag.ab', 'w')\n",
    "\n",
    "ab_a_w = open('data/all.ab-ag.ab.weights', 'w')\n",
    "ab_t_w = open('data/test.ab-ag.ab.weights', 'w')\n",
    "ab_v_w = open('data/valid.ab-ag.ab.weights', 'w')\n",
    "ab_r_w = open('data/train.ab-ag.ab.weights', 'w')\n",
    "\n",
    "ag_a = open('data/all.ab-ag.ag', 'w')\n",
    "ag_t = open('data/test.ab-ag.ag', 'w')\n",
    "ag_v = open('data/valid.ab-ag.ag', 'w')\n",
    "ag_r = open('data/train.ab-ag.ag', 'w')\n",
    "\n",
    "import random\n",
    "for i in range(len(ab)):\n",
    "    r = random.random() \n",
    "    ab_a.write(ab[i] + '\\n')\n",
    "    ag_a.write(ag[i] + '\\n')\n",
    "    ab_a_w.write(ab_w[i] + '\\n')\n",
    "    if r < 0.1:\n",
    "        ab_t.write(ab[i] + '\\n')\n",
    "        ag_t.write(ag[i] + '\\n')\n",
    "        ab_t_w.write(ab_w[i] + '\\n')\n",
    "    elif r < 0.2:\n",
    "        ab_v.write(ab[i] + '\\n')\n",
    "        ag_v.write(ag[i] + '\\n')\n",
    "        ab_v_w.write(ab_w[i] + '\\n')\n",
    "    else:\n",
    "        ab_r.write(ab[i] + '\\n')\n",
    "        ag_r.write(ag[i] + '\\n')\n",
    "        ab_r_w.write(ab_w[i] + '\\n')"
   ]
  },
  {
   "cell_type": "code",
   "execution_count": null,
   "metadata": {},
   "outputs": [],
   "source": [
    "ab_a.close()\n",
    "ab_t.close()\n",
    "ab_v.close()\n",
    "ab_r.close()\n",
    "\n",
    "ab_a_w.close()\n",
    "ab_t_w.close()\n",
    "ab_v_w.close()\n",
    "ab_r_w.close()\n",
    "\n",
    "ag_a.close()\n",
    "ag_t.close()\n",
    "ag_v.close()\n",
    "ag_r.close()\n"
   ]
  }
 ],
 "metadata": {
  "kernelspec": {
   "display_name": "Python 3.9.15 ('AntiXLM')",
   "language": "python",
   "name": "python3"
  },
  "language_info": {
   "codemirror_mode": {
    "name": "ipython",
    "version": 3
   },
   "file_extension": ".py",
   "mimetype": "text/x-python",
   "name": "python",
   "nbconvert_exporter": "python",
   "pygments_lexer": "ipython3",
   "version": "3.9.15"
  },
  "orig_nbformat": 4,
  "vscode": {
   "interpreter": {
    "hash": "d8cd6be36955057b908d7e8224fd31af8f0a9cc0a3d0008b404d43df50a351fd"
   }
  }
 },
 "nbformat": 4,
 "nbformat_minor": 2
}
